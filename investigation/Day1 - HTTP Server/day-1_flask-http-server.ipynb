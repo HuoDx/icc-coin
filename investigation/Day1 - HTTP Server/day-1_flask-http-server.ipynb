{
 "cells": [
  {
   "cell_type": "markdown",
   "metadata": {},
   "source": [
    "Day 1: A Flask HTTP Server\n",
    "===\n",
    "\n",
    "To build our first peer to peer (P2P) network, we need to learn the basics about networking.\n",
    "\n",
    "For the ICC Coin project, using HTTP for networking is appropriate because:\n",
    "  - The concepts are easy to learn.\n",
    "  - It's text-based, which is way friendlier than TCP or UDP.\n",
    "  - It works good enough for a small-scale blockchain demo like the ICC Coin (c'mon we're not making Bitcoin).\n",
    "  - You can easily debug and test it with your Internet browser.\n",
    "\n",
    "So for day 1, it's good to learn the basics about HTTP and how to set up an HTTP Server."
   ]
  },
  {
   "cell_type": "markdown",
   "metadata": {},
   "source": [
    "## 1. Basics about Networking\n",
    "\n",
    "A network is, some computers connected together. These connections allow them to exchange information with each other. For example, if your phone and your laptop are both connected under the same WiFi, then they are in a network with the center being your WiFi router. You can roughly take the situation \"being connected under the same WiFi\" as being in the same local area network (LAN). In the scenario of the ICC Coin, things are all done in the Local Area Network (LAN) as all peers are supposed to be connected in the ICC Classroom WiFi (or ICC Office/guest/teacher).\n",
    "\n",
    "Now, we will discuss how can a computer send information to another computer under the same LAN."
   ]
  },
  {
   "cell_type": "markdown",
   "metadata": {},
   "source": [
    "### 1.1 IP address and port\n",
    "\n",
    "First, you need to find the address of the computer. It's just like you ordering a takeaway: you need to tell the delivery guy where the school is located or where your home is to allow him to deliver your takeaway - you need to have the address. In the world of computer, this address is called \"IP\" address (you have probably heard of that).\n",
    "\n",
    "Just like any addresses in reality, IP address is unique: you can't imagine two different schools sharing the exact same address - otherwise who can tell which is which? It's the same: two computers cannot have the same IP address under the same network.\n",
    "\n",
    "An IP address string has for integers as segments connected with dots; each number is in the range from 0 to 255. For example, an IP address can look like this: `172.16.48.135` or `123.114.62.25`. But it will **NEVER** look like this `114.514.233.333` as 233 and 333 exceeds 255.\n",
    "\n",
    "To see your IP address in yor LAN, use this command in your computer's terminal (Mac and Linux) / cmd (Windows):\n",
    "  - For Mac and Linux: `ifconfig`\n",
    "  - For Windows: `ipconfig`\n",
    "\n",
    "Now you know the IP address, let's have a look about the ports. Imagine you're ordering takeaway and you're living in an apartment rather than a house - the apartment has a thousand people living inside with different doors. But these doors cannot be shown on the map, so you also need to tell your delivery guy which door you're living in by giving him your room number. In the computer world, it's the same: there are over 65 thousand \"doors\" - formally known as ports - avaliable inside a computer, so you must identify which port you're sending information to, otherwise it's not able to get delivered. \n",
    "\n",
    "A port is an integer in range from 0 to 65535. The ports below 10000 is not recommended, as other programs running on your computer have probably occupied them. C'mon, there's still 50 thousands to use!"
   ]
  },
  {
   "cell_type": "markdown",
   "metadata": {},
   "source": [
    "## 1.2 Introducing HTTP\n",
    "\n",
    "HTTP is a protocol that allows communications between computers. Protocols are agreements between computers that allow communications to take place. It's a little bit like the role of human language in our daily communications.\n",
    "\n",
    "The HTTP protocol is a role-playing game for computers. One computer is being a **server** and the others are all playing the role of **clients**. Networking using HTTP is done with a request-response format: \n",
    "  1. the client sends a **request** to the server\n",
    "  2. the server responds with a **response**. \n",
    "  \n",
    "That's all. \n",
    "\n",
    "The client only attempts to connect to the server before sending a request and the connection is immediately lost after the client recieved the response.\n",
    "\n",
    "This is intuitive: the server is kind of like a sales clerk in a shop the client is you wandering to look around: by asking \"is there xxx?\" you are actually **requesting information** from the clerk, and by telling you \"Yes there is.\" the sales clerk is **responding to your request of information**. That's the intuitive logic in the HTTP protocol."
   ]
  },
  {
   "cell_type": "markdown",
   "metadata": {},
   "source": [
    "## 1.3 Building an HTTP Server with Flask\n",
    "\n",
    "Now, let's code. The Flask framework is a very good framework for dealing with HTTP in Python as it is lightweight yet powerful."
   ]
  },
  {
   "cell_type": "markdown",
   "metadata": {},
   "source": [
    "First, you need to run `pip install flask` on Windows or `pip3 install flask` on Mac/Linux to install this framework.\n",
    "\n",
    "After installation, let's import it."
   ]
  },
  {
   "cell_type": "code",
   "execution_count": 4,
   "metadata": {},
   "outputs": [],
   "source": [
    "from flask import Flask"
   ]
  },
  {
   "cell_type": "markdown",
   "metadata": {},
   "source": [
    "Then, let's create our server object."
   ]
  },
  {
   "cell_type": "code",
   "execution_count": 5,
   "metadata": {},
   "outputs": [],
   "source": [
    "server = Flask(__name__) # the __name__ is just for telling the server this module's name; it doesn't really matter."
   ]
  },
  {
   "cell_type": "markdown",
   "metadata": {},
   "source": [
    "Okay, so far so good.\n",
    "\n",
    "Let's hang right there and think: if I'm a server, how am I supposed to have this interaction make sense - I need a function to be called when the client sends me a request, and gives the response as the return value to the client.\n",
    "\n",
    "In pseudo-code, it's something like this:\n",
    "```\n",
    "when the client sends a request message REQUEST,\n",
    "    do something\n",
    "    do something else\n",
    "    return response RESPONSE\n",
    "```\n",
    "\n",
    "But...it seems that it can get pretty messy if there's many different types of requests. It will be good if we can group them. Fortunately, HTTP allows routing: there are many different routes for different tasks, making things nice and tidy.\n",
    "\n",
    "A route begins with a slash, which is `/`. By default, when you access a website, the `/` route is where you send your first request to. Also, you can make something like `/index` or `/category-1/sub-category-3/function-1`.\n",
    "\n",
    "Therefore, now in pseudo-code, it's something like this:\n",
    "```\n",
    "when the client sends a request message REQUEST to route '/',\n",
    "    do something\n",
    "    do something else\n",
    "    return response RESPONSE\n",
    "    \n",
    "when the client sends a request message REQUEST to route '/info',\n",
    "    RESPONSE = some info\n",
    "    return response RESPONSE\n",
    "```\n",
    "Intuitive, right? \n",
    "\n",
    "In Flask, it's something like this"
   ]
  },
  {
   "cell_type": "code",
   "execution_count": 7,
   "metadata": {},
   "outputs": [],
   "source": [
    "@server.route('/')\n",
    "def respond1():\n",
    "    return 'Hello, World'\n",
    "\n",
    "@server.route('/info')\n",
    "def respond_info():\n",
    "    some_info = \"Info\"\n",
    "    return some_info"
   ]
  },
  {
   "cell_type": "markdown",
   "metadata": {},
   "source": [
    "Now, we're ready to get our server started."
   ]
  },
  {
   "cell_type": "code",
   "execution_count": 9,
   "metadata": {},
   "outputs": [
    {
     "name": "stdout",
     "output_type": "stream",
     "text": [
      " * Serving Flask app \"__main__\" (lazy loading)\n",
      " * Environment: production\n",
      "   WARNING: Do not use the development server in a production environment.\n",
      "   Use a production WSGI server instead.\n",
      " * Debug mode: on\n"
     ]
    },
    {
     "name": "stderr",
     "output_type": "stream",
     "text": [
      " * Restarting with stat\n"
     ]
    },
    {
     "ename": "SystemExit",
     "evalue": "1",
     "output_type": "error",
     "traceback": [
      "An exception has occurred, use %tb to see the full traceback.\n",
      "\u001b[1;31mSystemExit\u001b[0m\u001b[1;31m:\u001b[0m 1\n"
     ]
    }
   ],
   "source": [
    "server.run(host = '0.0.0.0', port = 10001, debug = True) # don't run it here, place everything in a python file and run."
   ]
  },
  {
   "cell_type": "markdown",
   "metadata": {},
   "source": [
    "As you have probably noticed, the `0.0.0.0` is the IP address - but how can everybody all have `0.0.0.0` as their IP address? Isn't it supposed to be unique?\n",
    "\n",
    "This is because `0.0.0.0` is not a *real* IP address, it means \"this computer\". This address allows both you and others to access with your IP in LAN (remember we discussed how to access it). So **don't** just type `0.0.0.0` in your browser. Another special IP is `127.0.0.1`: it means basically the same thing, but you can type it in your browser but nobody else can access it (it's local).\n",
    "\n",
    "As the default port for HTTP is 80, but we're using 10001 as our port. So we need to tell our browser about our port by using a `:` after the IP address, such as `127.0.0.1:10001`. Now, with the server running, if you type this thing into your browser, you should be able to see \"Hello, World\" shown. If you type `127.0.0.1:10001/info`, guess what, \"Info\" will be displayed instead.\n",
    "\n",
    "That's how HTTP works."
   ]
  }
 ],
 "metadata": {
  "kernelspec": {
   "display_name": "Python 3",
   "language": "python",
   "name": "python3"
  },
  "language_info": {
   "codemirror_mode": {
    "name": "ipython",
    "version": 3
   },
   "file_extension": ".py",
   "mimetype": "text/x-python",
   "name": "python",
   "nbconvert_exporter": "python",
   "pygments_lexer": "ipython3",
   "version": "3.7.0"
  }
 },
 "nbformat": 4,
 "nbformat_minor": 2
}
